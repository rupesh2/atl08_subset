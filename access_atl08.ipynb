{
 "cells": [
  {
   "cell_type": "markdown",
   "id": "cd7a46d3",
   "metadata": {},
   "source": [
    "# S3 Access ICESat-2 ATL08 "
   ]
  },
  {
   "cell_type": "code",
   "execution_count": 1,
   "id": "4ed75e2b",
   "metadata": {},
   "outputs": [],
   "source": [
    "# hide warning messages \n",
    "import warnings\n",
    "warnings.filterwarnings('ignore')\n",
    "# import python modules\n",
    "import geopandas as gpd\n",
    "import requests\n",
    "import pandas as pd\n",
    "import datetime as dt \n",
    "import h5py\n",
    "import numpy as np\n",
    "import s3fs\n",
    "from os import path, remove\n",
    "from posixpath import splitext\n",
    "from requests.adapters import HTTPAdapter, Retry\n",
    "import concurrent.futures"
   ]
  },
  {
   "cell_type": "markdown",
   "id": "0f66c9eb",
   "metadata": {},
   "source": [
    "The following input parameters are needed, passed through the front-end."
   ]
  },
  {
   "cell_type": "code",
   "execution_count": 2,
   "id": "2b6ceb2a",
   "metadata": {},
   "outputs": [],
   "source": [
    "# start time\n",
    "start_date = dt.datetime(2017, 1, 1) \n",
    "# end time\n",
    "end_date = dt.datetime(2020, 1, 31)\n",
    "# atl08 variables of interests as a list\n",
    "variables = ['land_segments/canopy/h_canopy', 'land_segments/canopy/canopy_h_metrics']\n",
    "# path to polygon geojson file define subset area\n",
    "poly_f = 'poly.json'"
   ]
  },
  {
   "cell_type": "markdown",
   "id": "f1532fce",
   "metadata": {},
   "source": [
    "Let's define some additional variables."
   ]
  },
  {
   "cell_type": "code",
   "execution_count": 3,
   "id": "52fa7e44",
   "metadata": {},
   "outputs": [],
   "source": [
    "# ICESat-2 reference orbits\n",
    "orbits = gpd.read_file('orbits.json')\n",
    "# ATL08 regions/granule boundaries\n",
    "region = gpd.read_file('region.json')\n",
    "# nsidc s3 credentials\n",
    "nsidc_s3 = f\"https://data.nsidc.earthdatacloud.nasa.gov/s3credentials\"\n",
    "# cmr api url\n",
    "cmrurl='https://cmr.earthdata.nasa.gov/search/' \n",
    "# ATL08 (Earthdata Cloud) concept_id\n",
    "concept_id = 'C2153574670-NSIDC_CPRD' # 'C2144424132-NSIDC_ECS' is the public concept id\n",
    "# CMR datetime format\n",
    "dt_format = '%Y-%m-%dT%H:%M:%SZ'\n",
    "# six beams of ICESat-2\n",
    "beams = ['gt1l', 'gt1r', 'gt2l', 'gt2r', 'gt3l', 'gt3r']\n",
    "# core variables to include in every subset request\n",
    "headers = ['land_segments/latitude', 'land_segments/longitude', \n",
    "           'beam', 'granule']"
   ]
  },
  {
   "cell_type": "markdown",
   "id": "b8807a1e",
   "metadata": {},
   "source": [
    "Let's create a session to avoid 500 request errors."
   ]
  },
  {
   "cell_type": "code",
   "execution_count": 4,
   "id": "f08ad763",
   "metadata": {},
   "outputs": [],
   "source": [
    "# creating a backoff\n",
    "s = requests.Session()\n",
    "retries = Retry(total=3, backoff_factor=0.1, status_forcelist=[ 500, 502, 503, 504 ])\n",
    "s.mount('https://', HTTPAdapter(max_retries=retries))"
   ]
  },
  {
   "cell_type": "markdown",
   "id": "a47f8680",
   "metadata": {},
   "source": [
    "Let's find the intersecting ICESat-2 reference orbits intersecting with the polygon (`poly`). For intersection to work correctly, geopandas requires [pygeos](https://pygeos.readthedocs.io/) module."
   ]
  },
  {
   "cell_type": "code",
   "execution_count": 5,
   "id": "d0ed4a40",
   "metadata": {},
   "outputs": [],
   "source": [
    "poly = gpd.read_file(poly_f)\n",
    "poly['geometry'] = poly.geometry.buffer(0.3, cap_style=3)\n",
    "inter = gpd.sjoin(orbits, poly, how='inner', op='intersects')"
   ]
  },
  {
   "cell_type": "markdown",
   "id": "129805d4",
   "metadata": {},
   "source": [
    "The orbit column in the `inter` dataframe will have a four-digit reference ground track number of the intersecting orbits. We will now search CMR for ATL08 granules by passing this number to a CMR API request. This is necessary since the CMR bounding geometries of ATL08 are not representative of actual data bounds.\n",
    "\n",
    "Accessing s3 links of atl08 via CMR requires authentication as it is not yet publicly available. Create a NASA EDL token first by going to `https://urs.earthdata.nasa.gov/users/<username>/user_tokens` and generate a token if you don't have one already. Save the token to the `~/.cmr_token` file in your home directory.\n",
    "\n",
    "Now, let's define functions to search for ATL08 granules."
   ]
  },
  {
   "cell_type": "code",
   "execution_count": 6,
   "id": "b45b87d4",
   "metadata": {},
   "outputs": [],
   "source": [
    "# function to search CMR \n",
    "def granule_search(concept_id: str, temporal: str, granule_id:str):\n",
    "    page_num = 1\n",
    "    granule_arr = []\n",
    "    while True:\n",
    "         # defining parameters\n",
    "        cmr_param = {\n",
    "            \"collection_concept_id\": concept_id, \n",
    "            \"temporal\": temporal,\n",
    "            \"page_size\": 2000,\n",
    "            \"page_num\": page_num,\n",
    "            \"options[producerGranuleId][pattern]\": \"true\",\n",
    "            \"producerGranuleId\": granule_id        }\n",
    "\n",
    "        granulesearch = cmrurl + 'granules.json'\n",
    "        token_path = path.join(path.expanduser(\"~\"), '.cmr_token')\n",
    "        response = requests.get(granulesearch, params=cmr_param)\n",
    "        granules = response.json()['feed']['entry']\n",
    "        if granules:\n",
    "            for g in granules:\n",
    "                # Get URL of HDF5 files\n",
    "                for links in g['links']:\n",
    "                    if links['href'].startswith('s3://') and links['href'].endswith('.h5'):\n",
    "                        granule_arr.append(links['href'])\n",
    "\n",
    "            page_num += 1\n",
    "        else: \n",
    "            break\n",
    "            \n",
    "    return granule_arr"
   ]
  },
  {
   "cell_type": "markdown",
   "id": "50290061",
   "metadata": {},
   "source": [
    "We now pass time bounds and four-digit ICESat-2 reference orbit numbers to the CMR search function defined above."
   ]
  },
  {
   "cell_type": "code",
   "execution_count": 7,
   "id": "4a436a8c",
   "metadata": {},
   "outputs": [],
   "source": [
    "# CMR time bounds\n",
    "temporal = start_date.strftime(dt_format) + ',' + end_date.strftime(dt_format)\n",
    "alt08_f = []\n",
    "for o_n in inter.orbit:\n",
    "    alt08_f.extend(granule_search(concept_id, temporal, f\"*_{str(o_n).zfill(4)}*\"))"
   ]
  },
  {
   "cell_type": "markdown",
   "id": "e43caf85",
   "metadata": {},
   "source": [
    "The list `alt08_f` will now have S3 links to ATL08 granules.\n",
    "\n",
    "Each ATL08 granules covers about 1/14th of an orbit, called \"region\", identified by a two-digit number. Each region is defined by latitude boundaries and whether the orbit is ascending or descending. Let's find all the regions that intersects the polygon `poly`."
   ]
  },
  {
   "cell_type": "code",
   "execution_count": 8,
   "id": "c9d2b268",
   "metadata": {},
   "outputs": [],
   "source": [
    "regions = []\n",
    "for r_inter in gpd.sjoin(region, poly, how='inner', op='intersects').region:\n",
    "    for r in r_inter.split(','):\n",
    "        regions.append(r)"
   ]
  },
  {
   "cell_type": "markdown",
   "id": "3ebec4a3",
   "metadata": {},
   "source": [
    "Now, we will only keep the granules that belongs to the regions identified."
   ]
  },
  {
   "cell_type": "code",
   "execution_count": 9,
   "id": "52d71f4c",
   "metadata": {},
   "outputs": [],
   "source": [
    "alt08_files = []\n",
    "for s3_url in alt08_f:\n",
    "    granule_region = path.basename(s3_url).split(\"_\")[2][-2:]\n",
    "    if granule_region in regions:\n",
    "        alt08_files.append(s3_url)"
   ]
  },
  {
   "cell_type": "markdown",
   "id": "3cf896ae",
   "metadata": {},
   "source": [
    "We will now get S3 temporary credentials and define the S3FS S3FileSystem object. Make sure that `.netrc` file is defined as described here: https://wiki.earthdata.nasa.gov/display/EL/How+To+Access+Data+With+cURL+And+Wget."
   ]
  },
  {
   "cell_type": "code",
   "execution_count": 10,
   "id": "027e2a39",
   "metadata": {},
   "outputs": [],
   "source": [
    "# get s3 credentials\n",
    "s3credentials = s.get(nsidc_s3).json()\n",
    "# defining S3FS object\n",
    "fs_s3 = s3fs.S3FileSystem(anon=False, \n",
    "                          key=s3credentials['accessKeyId'], \n",
    "                          secret=s3credentials['secretAccessKey'], \n",
    "                          token=s3credentials['sessionToken'])"
   ]
  },
  {
   "cell_type": "markdown",
   "id": "4dcd9088",
   "metadata": {},
   "source": [
    "We will now define a function to spatially subset the ATL08 granules. "
   ]
  },
  {
   "cell_type": "code",
   "execution_count": 11,
   "id": "2311748d",
   "metadata": {},
   "outputs": [],
   "source": [
    "def subset_atl08(t, var_l, poly, s3_url):     \n",
    "    with fs_s3.open(s3_url, mode='rb') as fh:\n",
    "        with h5py.File(fh) as hf:\n",
    "            granule_f = path.basename(s3_url)\n",
    "            out_csv = f'{splitext(granule_f)[0]}_{int(dt.datetime.utcnow().timestamp())}.csv'\n",
    "            for var in list(hf.keys()):\n",
    "                if var.startswith('gt'):\n",
    "                    if 'land_segments' in list(hf[var].keys()):\n",
    "                        lat = hf[f'{var}/{var_l[0]}'][:]\n",
    "                        lon = hf[f'{var}/{var_l[1]}'][:]\n",
    "                        df = pd.DataFrame({var_l[0]: lat, var_l[1]: lon})\n",
    "                        gdf = gpd.GeoDataFrame(df, geometry=gpd.points_from_xy(df[var_l[1]], df[var_l[0]])) \n",
    "                        gdf_poly = gdf[gdf['geometry'].within(poly.geometry[0])]   \n",
    "                        if not gdf_poly.empty:\n",
    "                            if not path.exists(out_csv):\n",
    "                                with open(out_csv, \"w\") as f:\n",
    "                                    f.write(','.join(var_l)+'\\n')\n",
    "                        \n",
    "                            gdf_poly['beam'] = np.repeat(str(var), len(gdf_poly.index)).tolist()\n",
    "                            gdf_poly['granule'] = np.repeat(str(granule_f), len(gdf_poly.index)).tolist()\n",
    "\n",
    "                            for v in var_l[t:]:\n",
    "                                gdf_poly[v] = None\n",
    "\n",
    "                            # retrieving variables of interests\n",
    "                            for _, df_gr in gdf_poly.groupby((gdf_poly.index.to_series().diff() > 1).cumsum()):\n",
    "                                i = df_gr.index.min()\n",
    "                                j = df_gr.index.max()\n",
    "                                for v in var_l[t:]:\n",
    "                                    if v.startswith('signal_photons'):\n",
    "                                        gdf_poly.loc[i:j, (v)][:] =  hf[f'{var}/{v}'][i:j+1].tolist()\n",
    "                                    else:\n",
    "                                        gdf_poly.loc[i:j, (v)][:] = hf[f'{var}/{v}'][i:j+1].tolist()\n",
    "                                    \n",
    "\n",
    "                            # saving the output file\n",
    "                            gdf_poly.to_csv(out_csv, mode='a', index=False, header=False, columns=var_l)\n",
    "    if path.exists(out_csv):                         \n",
    "        return out_csv"
   ]
  },
  {
   "cell_type": "markdown",
   "id": "f6fa4d3e",
   "metadata": {},
   "source": [
    "To the above function `subset_atl08`, we will pass a list `headers` and `variables` containing the variables of interest, a geopandas dataframe `poly_gpd` containing subset area polygon, and a list `alt08_files` containing the list of S3 links to ATL08 files."
   ]
  },
  {
   "cell_type": "code",
   "execution_count": 12,
   "id": "3ebbaafc",
   "metadata": {},
   "outputs": [],
   "source": [
    "# read the polygon json defining the subset area\n",
    "poly_gpd = gpd.read_file(poly_f)\n",
    "# subset using asynchronous calls\n",
    "futures = []\n",
    "subset_f = []\n",
    "subset_pool = concurrent.futures.ThreadPoolExecutor()\n",
    "for s3_url in sorted(alt08_files):\n",
    "    future = subset_pool.submit(subset_atl08, len(headers), headers+variables, poly_gpd, s3_url)\n",
    "    futures.append(future)\n",
    "futures, _ = concurrent.futures.wait(futures)\n",
    "for future in futures:\n",
    "    result = future.result()\n",
    "    subset_f.append(result)"
   ]
  },
  {
   "cell_type": "markdown",
   "id": "f7f13c51",
   "metadata": {},
   "source": [
    "The variable `subset_f` will now contain a list of CSV files that were created in the above step.  These CSV files contains the subset data. Now, we will read these subset CSV files and print out the results."
   ]
  },
  {
   "cell_type": "code",
   "execution_count": 16,
   "id": "b89cc93e",
   "metadata": {
    "scrolled": true
   },
   "outputs": [
    {
     "data": {
      "text/plain": [
       "'{\"index\":{\"0\":0,\"1\":1,\"2\":2,\"3\":3,\"4\":4,\"5\":5,\"6\":6,\"7\":7,\"8\":8,\"9\":9,\"10\":10,\"11\":11,\"12\":12,\"13\":13,\"14\":0,\"15\":1,\"16\":2,\"17\":3,\"18\":4,\"19\":5,\"20\":6,\"21\":7,\"22\":8,\"23\":9},\"land_segments\\\\/latitude\":{\"0\":-43.138596,\"1\":-43.13949,\"2\":-43.140385,\"3\":-43.141277,\"4\":-43.142174,\"5\":-43.143066,\"6\":-43.14396,\"7\":-43.144855,\"8\":-43.14575,\"9\":-43.146645,\"10\":-43.147537,\"11\":-43.140118,\"12\":-43.1428,\"13\":-43.147274,\"14\":-43.147022,\"15\":-43.146126,\"16\":-43.145233,\"17\":-43.14434,\"18\":-43.143444,\"19\":-43.14255,\"20\":-43.141655,\"21\":-43.14076,\"22\":-43.139866,\"23\":-43.13897},\"land_segments\\\\/longitude\":{\"0\":147.36943,\"1\":147.36931,\"2\":147.36919,\"3\":147.36906,\"4\":147.36894,\"5\":147.36882,\"6\":147.36871,\"7\":147.36859,\"8\":147.36847,\"9\":147.36835,\"10\":147.36823,\"11\":147.36794,\"12\":147.36758,\"13\":147.367,\"14\":147.3681,\"15\":147.36798,\"16\":147.36786,\"17\":147.36774,\"18\":147.36761,\"19\":147.36751,\"20\":147.36739,\"21\":147.36728,\"22\":147.36716,\"23\":147.36703},\"beam\":{\"0\":\"gt1l\",\"1\":\"gt1l\",\"2\":\"gt1l\",\"3\":\"gt1l\",\"4\":\"gt1l\",\"5\":\"gt1l\",\"6\":\"gt1l\",\"7\":\"gt1l\",\"8\":\"gt1l\",\"9\":\"gt1l\",\"10\":\"gt1l\",\"11\":\"gt1r\",\"12\":\"gt1r\",\"13\":\"gt1r\",\"14\":\"gt3l\",\"15\":\"gt3l\",\"16\":\"gt3l\",\"17\":\"gt3l\",\"18\":\"gt3l\",\"19\":\"gt3l\",\"20\":\"gt3l\",\"21\":\"gt3l\",\"22\":\"gt3l\",\"23\":\"gt3l\"},\"granule\":{\"0\":\"ATL08_20190119125513_03370209_005_01.h5\",\"1\":\"ATL08_20190119125513_03370209_005_01.h5\",\"2\":\"ATL08_20190119125513_03370209_005_01.h5\",\"3\":\"ATL08_20190119125513_03370209_005_01.h5\",\"4\":\"ATL08_20190119125513_03370209_005_01.h5\",\"5\":\"ATL08_20190119125513_03370209_005_01.h5\",\"6\":\"ATL08_20190119125513_03370209_005_01.h5\",\"7\":\"ATL08_20190119125513_03370209_005_01.h5\",\"8\":\"ATL08_20190119125513_03370209_005_01.h5\",\"9\":\"ATL08_20190119125513_03370209_005_01.h5\",\"10\":\"ATL08_20190119125513_03370209_005_01.h5\",\"11\":\"ATL08_20190119125513_03370209_005_01.h5\",\"12\":\"ATL08_20190119125513_03370209_005_01.h5\",\"13\":\"ATL08_20190119125513_03370209_005_01.h5\",\"14\":\"ATL08_20190122010525_03750213_005_01.h5\",\"15\":\"ATL08_20190122010525_03750213_005_01.h5\",\"16\":\"ATL08_20190122010525_03750213_005_01.h5\",\"17\":\"ATL08_20190122010525_03750213_005_01.h5\",\"18\":\"ATL08_20190122010525_03750213_005_01.h5\",\"19\":\"ATL08_20190122010525_03750213_005_01.h5\",\"20\":\"ATL08_20190122010525_03750213_005_01.h5\",\"21\":\"ATL08_20190122010525_03750213_005_01.h5\",\"22\":\"ATL08_20190122010525_03750213_005_01.h5\",\"23\":\"ATL08_20190122010525_03750213_005_01.h5\"},\"land_segments\\\\/canopy\\\\/h_canopy\":{\"0\":20.3750152588,\"1\":18.6346206665,\"2\":24.6231231689,\"3\":25.5682601929,\"4\":21.039100647,\"5\":23.4232330322,\"6\":28.9838485718,\"7\":28.7618865967,\"8\":23.3649291992,\"9\":23.9942626953,\"10\":19.0852890015,\"11\":22.6454238892,\"12\":16.1505203247,\"13\":27.1385192871,\"14\":17.9501266479,\"15\":32.7690086365,\"16\":35.3397827148,\"17\":36.1376953125,\"18\":25.7258758545,\"19\":32.9794387817,\"20\":33.678276062,\"21\":26.1242027283,\"22\":28.2982559204,\"23\":24.7440643311},\"land_segments\\\\/canopy\\\\/canopy_h_metrics\":{\"0\":\"[0.5749740600585938, 0.6429367065429688, 0.6958084106445312, 0.7408905029296875, 0.8455352783203125, 0.8857269287109375, 0.9668807983398438, 1.1320114135742188, 1.2875518798828125, 1.697784423828125, 2.0705642700195312, 4.1148681640625, 6.7794036865234375, 9.677841186523438, 11.690673828125, 13.472518920898438, 17.023284912109375, 18.99774932861328]\",\"1\":\"[0.7493515014648438, 0.8263931274414062, 1.0170440673828125, 1.2169189453125, 1.81805419921875, 2.9806060791015625, 3.2777175903320312, 3.6173248291015625, 5.10076904296875, 11.547065734863281, 12.077079772949219, 13.287956237792969, 14.389816284179688, 15.881904602050781, 16.328392028808594, 17.26313018798828, 17.444625854492188, 18.240036010742188]\",\"2\":\"[0.6865997314453125, 0.71112060546875, 0.759002685546875, 0.8104095458984375, 0.8493270874023438, 0.9219818115234375, 0.9909210205078125, 1.0748977661132812, 1.460784912109375, 2.2299575805664062, 5.923492431640625, 7.234832763671875, 9.291854858398438, 10.768211364746094, 11.645423889160156, 14.629196166992188, 16.06867218017578, 18.036102294921875]\",\"3\":\"[0.7195587158203125, 0.8539886474609375, 1.4502410888671875, 4.264366149902344, 6.972900390625, 8.998664855957031, 10.547599792480469, 11.371963500976562, 12.584457397460938, 13.266593933105469, 14.267585754394531, 15.480682373046875, 16.27045440673828, 16.761459350585938, 17.981246948242188, 19.62670135498047, 20.158370971679688, 24.044273376464844]\",\"4\":\"[0.6423721313476562, 0.7472610473632812, 0.7741012573242188, 0.8458023071289062, 1.0177383422851562, 1.06298828125, 1.3797454833984375, 3.6103668212890625, 7.461585998535156, 11.014373779296875, 12.705291748046875, 13.932647705078125, 14.79571533203125, 17.051498413085938, 18.007843017578125, 18.486175537109375, 19.156951904296875, 20.620285034179688]\",\"5\":\"[0.60589599609375, 0.6912994384765625, 0.768280029296875, 0.8742523193359375, 0.9266815185546875, 0.9893951416015625, 1.3434295654296875, 2.697723388671875, 3.7227020263671875, 6.92156982421875, 10.075469970703125, 12.07757568359375, 14.448287963867188, 15.71044921875, 17.825515747070312, 20.690292358398438, 21.002288818359375, 22.015060424804688]\",\"6\":\"[1.0857772827148438, 1.1554489135742188, 1.2633590698242188, 1.558807373046875, 1.7403488159179688, 1.9299774169921875, 2.0995330810546875, 2.2800216674804688, 2.8985137939453125, 5.282768249511719, 9.089744567871094, 10.861557006835938, 12.10302734375, 13.830474853515625, 15.60089111328125, 20.543418884277344, 22.789093017578125, 27.20850372314453]\",\"7\":\"[1.23101806640625, 1.5336227416992188, 2.3027725219726562, 2.8236083984375, 3.44927978515625, 3.7746200561523438, 4.858184814453125, 6.3693389892578125, 6.83807373046875, 7.8766937255859375, 8.808555603027344, 10.001960754394531, 10.6533203125, 13.389076232910156, 13.636764526367188, 15.604057312011719, 20.72136688232422, 24.570159912109375]\",\"8\":\"[0.770263671875, 0.8321533203125, 0.9472198486328125, 1.0963668823242188, 1.1890411376953125, 1.3019638061523438, 1.3782958984375, 1.5178909301757812, 1.9413375854492188, 3.0114974975585938, 3.7086257934570312, 4.0418548583984375, 8.897796630859375, 11.8795166015625, 14.807662963867188, 17.122711181640625, 17.75627899169922, 22.499679565429688]\",\"9\":\"[0.629119873046875, 0.8178024291992188, 1.119232177734375, 1.3986434936523438, 1.700927734375, 2.345184326171875, 2.728973388671875, 3.1658935546875, 3.8559036254882812, 4.0815887451171875, 4.370765686035156, 5.051353454589844, 5.6007080078125, 6.331993103027344, 7.0682373046875, 10.667121887207031, 19.770172119140625, 23.0736083984375]\",\"10\":\"[0.6134262084960938, 0.66705322265625, 0.79388427734375, 0.9052047729492188, 1.173370361328125, 1.3481597900390625, 2.344970703125, 4.181083679199219, 7.719146728515625, 8.787460327148438, 11.641502380371094, 12.885513305664062, 15.244064331054688, 15.637802124023438, 16.19660186767578, 17.052268981933594, 17.60710906982422, 18.12493896484375]\",\"11\":\"[1.1347732543945312, 1.2350311279296875, 1.2866058349609375, 1.6179428100585938, 1.9384918212890625, 1.9646453857421875, 2.3772735595703125, 2.5082626342773438, 2.7761306762695312, 4.820594787597656, 7.134979248046875, 8.472785949707031, 11.018669128417969, 13.772789001464844, 14.703292846679688, 15.112846374511719, 17.490989685058594, 21.44994354248047]\",\"12\":\"[1.54278564453125, 1.7942733764648438, 1.9062652587890625, 2.1867599487304688, 2.2707366943359375, 2.4062728881835938, 2.4538421630859375, 2.6064834594726562, 2.6464157104492188, 2.9763259887695312, 3.2343673706054688, 3.4095306396484375, 3.5606613159179688, 4.069572448730469, 4.4917755126953125, 5.5419464111328125, 7.1731719970703125, 12.300125122070312]\",\"13\":\"[1.3299636840820312, 1.3829345703125, 1.4277725219726562, 1.4470062255859375, 1.7570419311523438, 1.776458740234375, 2.7665481567382812, 3.8495635986328125, 9.157669067382812, 16.87445068359375, 17.11510467529297, 19.667282104492188, 19.830398559570312, 20.555511474609375, 20.92999267578125, 21.27203369140625, 24.25634002685547, 26.95134735107422]\",\"14\":\"[2.5297203063964844, 3.8130531311035156, 4.035358428955078, 4.587921142578125, 4.723613739013672, 5.015129089355469, 5.140102386474609, 5.4448089599609375, 6.291385650634766, 6.5014190673828125, 6.804920196533203, 7.551181793212891, 8.358844757080078, 8.663719177246094, 9.773876190185547, 11.157890319824219, 12.214027404785156, 15.799747467041016]\",\"15\":\"[9.71981430053711, 10.111846923828125, 10.583808898925781, 12.106178283691406, 12.977245330810547, 13.610271453857422, 13.964107513427734, 14.40279769897461, 14.714107513427734, 16.060504913330078, 17.718605041503906, 19.22930145263672, 21.50751495361328, 22.89935302734375, 24.508892059326172, 26.85400390625, 28.16370391845703, 31.31753921508789]\",\"16\":\"[4.9320831298828125, 5.722602844238281, 6.5257720947265625, 8.855613708496094, 10.37118148803711, 11.70648193359375, 11.948265075683594, 13.23175048828125, 16.108863830566406, 17.99026107788086, 20.346466064453125, 23.006858825683594, 24.80126190185547, 27.49407958984375, 30.031238555908203, 32.229400634765625, 33.32095718383789, 34.27924728393555]\",\"17\":\"[5.0260162353515625, 6.552268981933594, 8.566375732421875, 12.414634704589844, 12.878349304199219, 14.189453125, 14.962760925292969, 15.603782653808594, 16.811851501464844, 18.121322631835938, 20.257667541503906, 22.426971435546875, 25.115989685058594, 26.202896118164062, 28.325668334960938, 29.864295959472656, 31.116432189941406, 34.656150817871094]\",\"18\":\"[5.1942596435546875, 6.986610412597656, 9.624191284179688, 10.956108093261719, 12.206657409667969, 12.570304870605469, 13.297805786132812, 14.156044006347656, 14.3343505859375, 14.653327941894531, 15.092758178710938, 15.382354736328125, 16.69921112060547, 19.314231872558594, 19.56671905517578, 22.18389129638672, 22.671226501464844, 24.67369842529297]\",\"19\":\"[9.475509643554688, 9.930633544921875, 10.285720825195312, 10.768791198730469, 11.480987548828125, 11.739082336425781, 12.039100646972656, 12.829803466796875, 13.500534057617188, 14.239768981933594, 15.49652099609375, 17.36102294921875, 19.760101318359375, 20.92597198486328, 23.817710876464844, 24.889915466308594, 26.548477172851562, 28.855941772460938]\",\"20\":\"[6.914695739746094, 7.839973449707031, 8.233108520507812, 8.635017395019531, 9.359504699707031, 10.338226318359375, 12.309333801269531, 14.413040161132812, 16.700965881347656, 18.056655883789062, 20.046539306640625, 21.406585693359375, 23.09972381591797, 26.83910369873047, 28.238449096679688, 29.039207458496094, 31.114242553710938, 32.424461364746094]\",\"21\":\"[2.1799850463867188, 2.5454483032226562, 4.077423095703125, 4.160881042480469, 4.544036865234375, 5.064552307128906, 5.506927490234375, 5.959659576416016, 6.352428436279297, 7.477073669433594, 7.995433807373047, 8.621910095214844, 9.38229751586914, 10.36514663696289, 13.23775863647461, 14.240425109863281, 19.546417236328125, 24.083507537841797]\",\"22\":\"[7.177959442138672, 8.873149871826172, 9.737403869628906, 10.427642822265625, 11.483566284179688, 11.616924285888672, 11.92867660522461, 12.226940155029297, 13.022331237792969, 18.137847900390625, 18.60042953491211, 19.415691375732422, 20.275379180908203, 21.521053314208984, 23.520008087158203, 25.262046813964844, 26.195850372314453, 27.168601989746094]\",\"23\":\"[5.210926055908203, 6.240840911865234, 6.509605407714844, 6.870677947998047, 8.02639389038086, 8.585319519042969, 9.75869369506836, 10.506454467773438, 11.199047088623047, 11.832305908203125, 12.128952026367188, 13.296627044677734, 14.449382781982422, 16.462356567382812, 18.363616943359375, 21.374065399169922, 21.911869049072266, 24.08963394165039]\"}}'"
      ]
     },
     "execution_count": 16,
     "metadata": {},
     "output_type": "execute_result"
    }
   ],
   "source": [
    "# reading the CSV\n",
    "subset_f = [x for x in subset_f if x is not None]\n",
    "subset_df = pd.concat(pd.read_csv(f, header=0) for f in subset_f)\n",
    "subset_df.reset_index(inplace=True)\n",
    "# deleting the CSV\n",
    "for f in subset_f:\n",
    "    if path.isfile(f):\n",
    "        remove(f)\n",
    "# printing the pandas dataframe as json\n",
    "subset_df.to_json()"
   ]
  },
  {
   "cell_type": "code",
   "execution_count": null,
   "id": "54afc3bb",
   "metadata": {},
   "outputs": [],
   "source": []
  }
 ],
 "metadata": {
  "kernelspec": {
   "display_name": "Python 3 (ipykernel)",
   "language": "python",
   "name": "python3"
  },
  "language_info": {
   "codemirror_mode": {
    "name": "ipython",
    "version": 3
   },
   "file_extension": ".py",
   "mimetype": "text/x-python",
   "name": "python",
   "nbconvert_exporter": "python",
   "pygments_lexer": "ipython3",
   "version": "3.8.5"
  }
 },
 "nbformat": 4,
 "nbformat_minor": 5
}
